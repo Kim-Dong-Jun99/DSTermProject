{
  "nbformat": 4,
  "nbformat_minor": 0,
  "metadata": {
    "colab": {
      "name": "term_project_final.ipynb",
      "provenance": [],
      "collapsed_sections": [],
      "include_colab_link": true
    },
    "kernelspec": {
      "name": "python3",
      "display_name": "Python 3"
    },
    "language_info": {
      "name": "python"
    }
  },
  "cells": [
    {
      "cell_type": "markdown",
      "metadata": {
        "id": "view-in-github",
        "colab_type": "text"
      },
      "source": [
        "<a href=\"https://colab.research.google.com/github/Kim-Dong-Jun99/DSTermProject/blob/kim-dong-jun99/term_project_final.ipynb\" target=\"_parent\"><img src=\"https://colab.research.google.com/assets/colab-badge.svg\" alt=\"Open In Colab\"/></a>"
      ]
    },
    {
      "cell_type": "code",
      "source": [
        ""
      ],
      "metadata": {
        "id": "xvpXWTOrrKru"
      },
      "execution_count": null,
      "outputs": []
    },
    {
      "cell_type": "code",
      "execution_count": null,
      "metadata": {
        "id": "ZE3ZalvgDc4h"
      },
      "outputs": [],
      "source": [
        "#공유 드라이브 연동\n",
        "\n",
        "from google.colab import drive\n",
        "import pandas as pd\n",
        "drive.mount('/content/gdrive', force_remount = True)  # 공유 드라이브\n",
        "\n",
        "df_2015_path = r'/content/gdrive/Shareddrives/data_science/dataset/2015.csv'\n",
        "df_2016_path = r'/content/gdrive/Shareddrives/data_science/dataset/2016.csv'\n",
        "df_2017_path = r'/content/gdrive/Shareddrives/data_science/dataset/2017.csv'\n"
      ]
    },
    {
      "cell_type": "code",
      "source": [
        "df_2015 = pd.read_csv(df_2015_path)\n",
        "df_2016 = pd.read_csv(df_2016_path)\n",
        "df_2017 = pd.read_csv(df_2017_path)"
      ],
      "metadata": {
        "id": "Feiw-dpqD4Fh"
      },
      "execution_count": null,
      "outputs": []
    },
    {
      "cell_type": "markdown",
      "source": [
        "# TermProject\n",
        "\n",
        "## Source and explanation of the dataset\n",
        "\n",
        "The dataset is 'World Happiness Report' from Kaggle. 'World Happiness Report' has data of world happiness from 2015 to 2019\n",
        "\n",
        "https://www.kaggle.com/datasets/unsdsn/world-happiness?datasetId=894&sortBy=voteCount&searchQuery=predict\n",
        "\n",
        "The columns of each dataset include 'Country', 'Region', 'Happiness Rank', 'Happiness Score', 'Economy', 'Family', 'Health', 'Freedom', 'Trust', 'Generosity', 'Dystopia Residual' etc.\n",
        "\n",
        "It is arranged in descending order according to the happiness score. The happiness score is the sum of the scores of other numerical features (except for Hapiness Rank).\n",
        "\n",
        "The World Happiness Report is a landmark survey of the state of global happiness. The reports review the state of happiness in the world today and show how the\n"
      ],
      "metadata": {
        "id": "XrUSYocMuh91"
      }
    },
    {
      "cell_type": "markdown",
      "source": [
        "# Objective of our analysis\n",
        "Analyze dataset to figure out characteristics of each continent in dataset then predict continent value of countries in dataset of 2017 using 2015, 2016 dataset for training\n",
        "\n",
        "We will use clustering and classification algorithm to predict continent of countries in dataset of 2017 using 2015, 2016 happiness data report\n",
        "\n",
        "Also, we will automate procedure of choosing best combination of scaler and algorithm that gives best result"
      ],
      "metadata": {
        "id": "7KBQyHZkvG7S"
      }
    },
    {
      "cell_type": "code",
      "source": [
        ""
      ],
      "metadata": {
        "id": "zh3oTecfvFvu"
      },
      "execution_count": null,
      "outputs": []
    }
  ]
}