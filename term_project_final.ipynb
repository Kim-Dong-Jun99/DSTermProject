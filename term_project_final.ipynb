{
  "nbformat": 4,
  "nbformat_minor": 0,
  "metadata": {
    "colab": {
      "name": "term_project_final.ipynb",
      "provenance": [],
      "collapsed_sections": [],
      "include_colab_link": true
    },
    "kernelspec": {
      "name": "python3",
      "display_name": "Python 3"
    },
    "language_info": {
      "name": "python"
    }
  },
  "cells": [
    {
      "cell_type": "markdown",
      "metadata": {
        "id": "view-in-github",
        "colab_type": "text"
      },
      "source": [
        "<a href=\"https://colab.research.google.com/github/Kim-Dong-Jun99/DSTermProject/blob/main/term_project_final.ipynb\" target=\"_parent\"><img src=\"https://colab.research.google.com/assets/colab-badge.svg\" alt=\"Open In Colab\"/></a>"
      ]
    },
    {
      "cell_type": "code",
      "source": [
        "# commit and merge test"
      ],
      "metadata": {
        "id": "xvpXWTOrrKru"
      },
      "execution_count": null,
      "outputs": []
    },
    {
      "cell_type": "code",
      "execution_count": null,
      "metadata": {
        "id": "ZE3ZalvgDc4h",
        "colab": {
          "base_uri": "https://localhost:8080/"
        },
        "outputId": "38391e32-3005-48bc-ee38-f95f576cdf57"
      },
      "outputs": [
        {
          "output_type": "stream",
          "name": "stdout",
          "text": [
            "Mounted at /content/gdrive\n"
          ]
        }
      ],
      "source": [
        "#공유 드라이브 연동\n",
        "\n",
        "from google.colab import drive\n",
        "import pandas as pd\n",
        "drive.mount('/content/gdrive', force_remount = True)  # 공유 드라이브\n",
        "\n",
        "df_2015_path = r'/content/gdrive/Shareddrives/data_science/dataset/2015.csv'\n",
        "df_2016_path = r'/content/gdrive/Shareddrives/data_science/dataset/2016.csv'\n",
        "df_2017_path = r'/content/gdrive/Shareddrives/data_science/dataset/2017.csv'\n"
      ]
    },
    {
      "cell_type": "code",
      "source": [
        "df_2015 = pd.read_csv(df_2015_path)\n",
        "df_2016 = pd.read_csv(df_2016_path)\n",
        "df_2017 = pd.read_csv(df_2017_path)"
      ],
      "metadata": {
        "id": "Feiw-dpqD4Fh"
      },
      "execution_count": null,
      "outputs": []
    },
    {
      "cell_type": "markdown",
      "source": [
        "# TermProject\n",
        "\n",
        "## Source and explanation of the dataset\n",
        "\n",
        "The dataset is 'World Happiness Report' from Kaggle. 'World Happiness Report' has data of world happiness from 2015 to 2019\n",
        "\n",
        "https://www.kaggle.com/datasets/unsdsn/world-happiness?datasetId=894&sortBy=voteCount&searchQuery=predict\n",
        "\n",
        "The columns of each dataset include 'Country', 'Region', 'Happiness Rank', 'Happiness Score', 'Economy', 'Family', 'Health', 'Freedom', 'Trust', 'Generosity', 'Dystopia Residual' etc.\n",
        "\n",
        "It is arranged in descending order according to the happiness score. The happiness score is the sum of the scores of other numerical features (except for Hapiness Rank).\n",
        "\n",
        "The World Happiness Report is a landmark survey of the state of global happiness. The reports review the state of happiness in the world today and show how the\n"
      ],
      "metadata": {
        "id": "XrUSYocMuh91"
      }
    },
    {
      "cell_type": "markdown",
      "source": [
        "# Objective of our analysis\n",
        "Analyze dataset to figure out characteristics of each continent in dataset then predict continent value of countries in dataset of 2017 using 2015, 2016 dataset for training\n",
        "\n",
        "We will use clustering and classification algorithm to predict continent of countries in dataset of 2017 using 2015, 2016 happiness data report\n",
        "\n",
        "Also, we will automate procedure of choosing best combination of scaler and algorithm that gives best result"
      ],
      "metadata": {
        "id": "7KBQyHZkvG7S"
      }
    },
    {
      "cell_type": "markdown",
      "source": [
        "# 데이터 통일하는 과정\n",
        "# process of unification"
      ],
      "metadata": {
        "id": "H8Ajqk8LHBiE"
      }
    },
    {
      "cell_type": "markdown",
      "source": [
        "## 각 데이터세트마다 존재하는 나라가 달라서 데이터세트에 있는 나라들을 통일하기 위한 코드\n",
        "## countries in each datasets are differenet, must be unificated before modeling "
      ],
      "metadata": {
        "id": "yVjUUVbDKOP6"
      }
    },
    {
      "cell_type": "code",
      "source": [
        "# 각 데이터프레임들의 나라를 저장하는 리스트\n",
        "# list for saving countries in each datasets\n",
        "country_15 = []\n",
        "country_16 = []\n",
        "country_17 = []\n",
        "\n",
        "for i in range(len(df_2015)):\n",
        "    country_15.append(df_2015.iloc[i][0])\n",
        "\n",
        "for i in range(len(df_2016)):\n",
        "    country_16.append(df_2016.iloc[i][0])\n",
        "\n",
        "for i in range(len(df_2017)):\n",
        "    country_17.append(df_2017.iloc[i][0])\n",
        "\n",
        "# 공통된 나라를 저장하기 위한 리스트\n",
        "# list to save common countries in dataset\n",
        "common = []\n",
        "for i in country_15:\n",
        "    if (i  in country_17 and i in country_16):\n",
        "        common.append(i)\n",
        "\n",
        "\n",
        "common.sort()\n",
        "\n",
        "# 공통된 나라만 데이터세트에 남기기 위해서 공통으로 존재하지 않는 나라를 저장하기 위한 리스트\n",
        "# list for saving countries that are non-common\n",
        "drop15 = []\n",
        "drop16 = []\n",
        "drop17 = []\n",
        "\n",
        "for i in range(len(df_2015)):\n",
        "    if(df_2015.iloc[i][0] not in common):\n",
        "        drop15.append(i)\n",
        "\n",
        "for i in range(len(df_2016)):\n",
        "    if(df_2016.iloc[i][0] not in common):\n",
        "        drop16.append(i)\n",
        "\n",
        "for i in range(len(df_2017)):\n",
        "    if(df_2017.iloc[i][0] not in common):\n",
        "        drop17.append(i)\n",
        "\n",
        "print(len(df_2015))\n",
        "print(len(df_2016))\n",
        "print(len(df_2017))\n",
        "\n",
        "\n"
      ],
      "metadata": {
        "id": "zh3oTecfvFvu"
      },
      "execution_count": null,
      "outputs": []
    },
    {
      "cell_type": "markdown",
      "source": [
        "# 공통된 나라가 common 리스트에 저장되었고, common 리스트에 속하지 않는 나라들은 drop\n",
        "# code for dropping countrires that are not in common list"
      ],
      "metadata": {
        "id": "QrKaM8psKIvX"
      }
    },
    {
      "cell_type": "code",
      "source": [
        "# drop15,drop16, drop17에 드랍해야할 나라들이 들어가있는데 그것을 적용해서 드랍할 나라들 드랍하기\n",
        "# drop countries in each dataframe\n",
        "df_2015.drop(drop15, axis = 0,inplace=True)\n",
        "df_2016.drop(drop16, axis = 0,inplace=True)\n",
        "df_2017.drop(drop17, axis = 0,inplace=True)\n",
        "\n",
        "print(len(df_2015))\n",
        "print(len(df_2016))\n",
        "print(len(df_2017))\n"
      ],
      "metadata": {
        "id": "iXXuqz8fKAb5"
      },
      "execution_count": null,
      "outputs": []
    },
    {
      "cell_type": "markdown",
      "source": [
        "# 158, 157, 155개였던 나라들이 146개로 통일된 것을 볼 수 있다\n",
        "# you can see that number of countries in each dataset is identical"
      ],
      "metadata": {
        "id": "U0YtB65qLsE1"
      }
    },
    {
      "cell_type": "markdown",
      "source": [
        "# 이제 서로 다른 컬럼 명을 통일하기 인덱스 정리하기\n",
        "# now we should unificate name of columns and reset index"
      ],
      "metadata": {
        "id": "36edLoDOL5jn"
      }
    },
    {
      "cell_type": "code",
      "source": [
        "# 나라들이 드랍됐으니, index를 정리\n",
        "# resetting index because countries has been dropped\n",
        "\n",
        "df_2015.reset_index(drop=True,inplace = True)\n",
        "df_2016.reset_index(drop=True, inplace = True)\n",
        "df_2017.reset_index(drop=True, inplace = True)\n",
        "\n"
      ],
      "metadata": {
        "id": "_pBkBNNMLpgX"
      },
      "execution_count": null,
      "outputs": []
    },
    {
      "cell_type": "code",
      "source": [
        "# 2017년도 데이터의 컬럼 명들이 다르기에 컬럼 명을 통일해주는 코드\n",
        "# column name in 2017 is different, code for changing 2017 data column name\n",
        "df_2017.rename(columns = {\"Happiness.Rank\":\"Happiness Rank\", \"Happiness.Score\":\"Happiness Score\",\"Economy..GDP.per.Capita.\":\"Economy (GDP per Capita)\",\n",
        "                          \"Health..Life.Expectancy.\":\"Health (Life Expectancy)\",\"Trust..Government.Corruption.\":\"Trust (Government Corruption)\",\"Dystopia.Residual\":\"Dystopia Residual\"}, inplace=True)\n",
        "# 표준편차 같은 의미 없는 컬럼 들은 드랍하기\n",
        "# dropping meaningless columns\n",
        "c_drop15 = ['Standard Error']\n",
        "c_drop16 = ['Lower Confidence Interval','Upper Confidence Interval']\n",
        "c_drop17 = ['Whisker.high', 'Whisker.low']\n",
        "\n",
        "df_2015.drop(c_drop15, axis=1,inplace=True)\n",
        "df_2016.drop(c_drop16, axis=1,inplace=True)\n",
        "df_2017.drop(c_drop17, axis=1,inplace=True)"
      ],
      "metadata": {
        "id": "uvSL6_8kM2cJ"
      },
      "execution_count": null,
      "outputs": []
    },
    {
      "cell_type": "markdown",
      "source": [
        "# 칼럼까지 통일했으니, 2017년도에 없는 지역 컬럼을 추가해줘야하고, region 컬럼에 있는 값을 대륙으로 변경해야한다\n",
        "\n",
        "# column name is unificated, now add region column in 2017 data and value in region column must be continent"
      ],
      "metadata": {
        "id": "71wj2JLZNfvh"
      }
    },
    {
      "cell_type": "code",
      "source": [
        "# 2017년도 데이터에 지역 컬럼을 추가해주기 위한 딕셔너리\n",
        "# dictonary for adding region data in 2017 dataframe\n",
        "region_dic = {}\n",
        "# 각 년도별 데이터프레임에 있는 나라들이 동일하므로, 2017년도 데이터에 지역 컬럼을 추가해주는 코드\n",
        "# adding region column to dataset of 2017 dataframe\n",
        "for i in range(len(df_2016)):\n",
        "  country = df_2016.iloc[i][0]\n",
        "  region = df_2016.iloc[i][1]\n",
        "  region_dic[country] = region\n",
        "\n",
        "for i in range(len(df_2017)):\n",
        "  df_2017.loc[i,'Region'] = region_dic[df_2017.loc[i,'Country']]\n",
        "\n",
        "df_2017.head()\n",
        "\n"
      ],
      "metadata": {
        "id": "K2-bdCbXNZpa"
      },
      "execution_count": null,
      "outputs": []
    },
    {
      "cell_type": "markdown",
      "source": [
        "# 2017년도 데이터에 지역 컬럼이 추가된 것을 확인할 수 있다, 이제 지역 컬럼에 있는 값을 지역이 아니라 대륙으로 변경해주자\n",
        "\n",
        "# you can see that region column has been added to 2017 dataframe, now values in region column must be continent, "
      ],
      "metadata": {
        "id": "00QiGGdlOW8o"
      }
    },
    {
      "cell_type": "code",
      "source": [
        "my_list=list()\n",
        "# 지역 값을 대륙으로 변경시켜주는 코드\n",
        "# changing region value into continent value\n",
        "for index in df_2015[\"Region\"]:\n",
        "    if \"Africa\" in index:\n",
        "        my_list.append(\"Africa\")\n",
        "    elif \"Europe\" in index:\n",
        "        my_list.append(\"Europe\")\n",
        "    elif \"Antartica\"in index:\n",
        "        my_list.append(\"Antartica\")\n",
        "    elif \"Australia\"in index:\n",
        "        my_list.append(\"Australia\")\n",
        "    elif \"North America\"in index:\n",
        "        my_list.append(\"North America\")\n",
        "    elif \"Latin America\" in index:\n",
        "        my_list.append(\"South America\")\n",
        "    elif \"Asia\" in index:\n",
        "        my_list.append(\"Asia\")\n",
        "df_2015[\"Region\"]=my_list\n",
        "\n",
        "my_list=list()\n",
        "for index in df_2016[\"Region\"]:\n",
        "    if \"Africa\" in index:\n",
        "        my_list.append(\"Africa\")\n",
        "    elif \"Europe\" in index:\n",
        "        my_list.append(\"Europe\")\n",
        "    elif \"Antartica\"in index:\n",
        "        my_list.append(\"Antartica\")\n",
        "    elif \"Australia\"in index:\n",
        "        my_list.append(\"Australia\")\n",
        "    elif \"North America\"in index:\n",
        "        my_list.append(\"North America\")\n",
        "    elif \"Latin America\" in index:\n",
        "        my_list.append(\"South America\")\n",
        "    elif \"Asia\" in index:\n",
        "        my_list.append(\"Asia\")\n",
        "df_2016[\"Region\"]=my_list\n",
        "\n",
        "my_list=list()\n",
        "for index in df_2017[\"Region\"]:\n",
        "    if \"Africa\" in index:\n",
        "        my_list.append(\"Africa\")\n",
        "    elif \"Europe\" in index:\n",
        "        my_list.append(\"Europe\")\n",
        "    elif \"Antartica\"in index:\n",
        "        my_list.append(\"Antartica\")\n",
        "    elif \"Australia\"in index:\n",
        "        my_list.append(\"Australia\")\n",
        "    elif \"North America\"in index:\n",
        "        my_list.append(\"North America\")\n",
        "    elif \"Latin America\" in index:\n",
        "        my_list.append(\"South America\")\n",
        "    elif \"Asia\" in index:\n",
        "        my_list.append(\"Asia\")\n",
        "df_2017[\"Region\"]=my_list\n"
      ],
      "metadata": {
        "id": "AKcx3bhvOVED"
      },
      "execution_count": null,
      "outputs": []
    },
    {
      "cell_type": "code",
      "source": [
        "# 이제 데이터 세트를 보기 편하게 해주기 위해서 컬럼 순서를 2015년 데이터프레임에 맞춰주는 코드\n",
        "# resetting order of dataframe column to 2015 data\n",
        "df_2016 = df_2016[['Country', 'Region', 'Happiness Rank', 'Happiness Score',\n",
        "       'Economy (GDP per Capita)', 'Family', 'Health (Life Expectancy)',\n",
        "       'Freedom', 'Trust (Government Corruption)', 'Generosity',\n",
        "       'Dystopia Residual']]\n",
        "df_2017 = df_2017[['Country', 'Region', 'Happiness Rank', 'Happiness Score',\n",
        "       'Economy (GDP per Capita)', 'Family', 'Health (Life Expectancy)',\n",
        "       'Freedom', 'Trust (Government Corruption)', 'Generosity',\n",
        "       'Dystopia Residual']]"
      ],
      "metadata": {
        "id": "_rhkDX2mOzvD"
      },
      "execution_count": null,
      "outputs": []
    },
    {
      "cell_type": "code",
      "source": [
        "df_2015.head()"
      ],
      "metadata": {
        "id": "wyJ-DzsdPhOG"
      },
      "execution_count": null,
      "outputs": []
    },
    {
      "cell_type": "code",
      "source": [
        "df_2016.head()"
      ],
      "metadata": {
        "id": "Z4juVuxKPhkz"
      },
      "execution_count": null,
      "outputs": []
    },
    {
      "cell_type": "code",
      "source": [
        "df_2017.head()"
      ],
      "metadata": {
        "id": "FE8A_zmGPjHt"
      },
      "execution_count": null,
      "outputs": []
    },
    {
      "cell_type": "markdown",
      "source": [
        "# 데이터 프레임 통일 끝!\n",
        "# dataframe unifiacation done"
      ],
      "metadata": {
        "id": "6ngqHFX2PnF0"
      }
    },
    {
      "cell_type": "code",
      "source": [
        "# 처리한 데이터 프레임을 재활용하기 위해서 피클 파일로 저장하는 코드\n",
        "# code for saving data into pickle file\n",
        "\n",
        "# df_2015.to_pickle('/content/gdrive/Shareddrives/data_science/dataset/cleaned_2015.pkl')\n",
        "# df_2016.to_pickle('/content/gdrive/Shareddrives/data_science/dataset/cleaned_2016.pkl')\n",
        "# df_2017.to_pickle('/content/gdrive/Shareddrives/data_science/dataset/cleaned_2017.pkl')"
      ],
      "metadata": {
        "id": "_nokAetKPmex"
      },
      "execution_count": null,
      "outputs": []
    },
    {
      "cell_type": "code",
      "source": [
        "cleaned_2015 = pd.read_pickle('/content/gdrive/Shareddrives/data_science/dataset/cleaned_2015.pkl')\n",
        "cleaned_2016 = pd.read_pickle('/content/gdrive/Shareddrives/data_science/dataset/cleaned_2016.pkl')\n",
        "cleaned_2017 = pd.read_pickle('/content/gdrive/Shareddrives/data_science/dataset/cleaned_2017.pkl')"
      ],
      "metadata": {
        "id": "sueJtkzgP8e-"
      },
      "execution_count": null,
      "outputs": []
    },
    {
      "cell_type": "code",
      "source": [
        ""
      ],
      "metadata": {
        "id": "6SrH_Z4wP8-0"
      },
      "execution_count": null,
      "outputs": []
    }
  ]
}